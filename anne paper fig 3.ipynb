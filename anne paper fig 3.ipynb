{
 "cells": [
  {
   "cell_type": "code",
   "execution_count": 1,
   "id": "0820e02e-6c3b-49fc-b189-8f4a725fde45",
   "metadata": {},
   "outputs": [],
   "source": [
    "import numpy as np\n",
    "import matplotlib.pyplot as plt"
   ]
  },
  {
   "cell_type": "markdown",
   "id": "70650bc5-5653-4bfb-b850-affbb442a735",
   "metadata": {},
   "source": [
    "Physical constants:"
   ]
  },
  {
   "cell_type": "code",
   "execution_count": 2,
   "id": "e70008d8-5418-425d-8648-6ecc045d8b5a",
   "metadata": {},
   "outputs": [],
   "source": [
    "#EAU = 27.2114\n",
    "IAU = 3.5e16\n",
    "#LAU = 0.052918\n",
    "TAU = 2.419e-17\n",
    "#alpha = 1. /137\n",
    "c = 2.998e8  # Speed of light in m/s\n",
    "LAU = 5.29177e-11  # Bohr radius in meters\n",
    "#c = 1/alpha"
   ]
  },
  {
   "cell_type": "markdown",
   "id": "cfe9f010-9b52-41f9-bd18-d111ff8ee5d5",
   "metadata": {},
   "source": [
    "Define fixed Paramaters:"
   ]
  },
  {
   "cell_type": "code",
   "execution_count": 3,
   "id": "a11d489b-e121-4e23-90c5-bbe764523d3c",
   "metadata": {},
   "outputs": [],
   "source": [
    "wavelength = 800e-9 #Wavelength in nm\n",
    "Int_0 = 4e14 #Intensity in W/cm2\n",
    "#Ip = 0.5 * 13.5984 # Hydrogen gas target ionization potential in eV\n",
    "\n",
    "omega = 2 * np.pi * LAU * c / wavelength  # Angular frequency\n",
    "TC = 2 * np.pi / omega  # Optical cycle period"
   ]
  },
  {
   "cell_type": "code",
   "execution_count": 4,
   "id": "da8675cf-818a-43fd-800f-d0d3d24f0023",
   "metadata": {},
   "outputs": [
    {
     "name": "stdout",
     "output_type": "stream",
     "text": [
      "124601.27024486901\n"
     ]
    }
   ],
   "source": [
    "print(omega)"
   ]
  },
  {
   "cell_type": "markdown",
   "id": "a7cf2835-8527-4aff-92ef-5b82fdba229a",
   "metadata": {},
   "source": [
    "Field configurations:"
   ]
  },
  {
   "cell_type": "code",
   "execution_count": 15,
   "id": "da04bb44-055c-4f84-bb8c-e878082984ea",
   "metadata": {},
   "outputs": [],
   "source": [
    "#define a function for a two-colour field, with mixing angle theta and phase shift phi\n",
    "def beam(theta, phi):\n",
    "    Int_1 = Int_0 * (np.cos(theta))**2  #Intensity of beam 1\n",
    "    Int_2 = Int_0 * (np.sin(theta))**2  #Intensity of beam 1\n",
    "    omega_1 = r * omega  #Frequency of beam 1\n",
    "    omega_2 = s * omega  #Frequency of beam 1\n",
    "\n",
    "    "
   ]
  },
  {
   "cell_type": "code",
   "execution_count": 16,
   "id": "cfa535df-61b7-458d-9469-d929f4cdc8d1",
   "metadata": {},
   "outputs": [
    {
     "name": "stdout",
     "output_type": "stream",
     "text": [
      "Beam(Int_1=200000000000000.03, Int_2=200000000000000.03, phi=1.5707963267948966)\n"
     ]
    }
   ],
   "source": [
    "beam = beam_mx(np.pi / 4, np.pi /2)\n",
    "print(beam)"
   ]
  },
  {
   "cell_type": "markdown",
   "id": "f42f6c3b-06d2-4f60-9a8d-8fdd779b6f95",
   "metadata": {},
   "source": [
    "Plot field shape over time:"
   ]
  },
  {
   "cell_type": "code",
   "execution_count": 20,
   "id": "23224593-65cd-4506-9c61-edb1c3139e28",
   "metadata": {},
   "outputs": [
    {
     "ename": "AttributeError",
     "evalue": "type object 'Beam' has no attribute 'Int_1'",
     "output_type": "error",
     "traceback": [
      "\u001b[1;31m---------------------------------------------------------------------------\u001b[0m",
      "\u001b[1;31mAttributeError\u001b[0m                            Traceback (most recent call last)",
      "Cell \u001b[1;32mIn[20], line 7\u001b[0m\n\u001b[0;32m      3\u001b[0m     e_field \u001b[38;5;241m=\u001b[39m Beam\u001b[38;5;241m.\u001b[39mInt_1\n\u001b[0;32m      5\u001b[0m     plt\u001b[38;5;241m.\u001b[39mplot(time_list, e_field, label\u001b[38;5;241m=\u001b[39mname)\n\u001b[1;32m----> 7\u001b[0m field_shape(np\u001b[38;5;241m.\u001b[39mpi \u001b[38;5;241m/\u001b[39m \u001b[38;5;241m4\u001b[39m, np\u001b[38;5;241m.\u001b[39mpi \u001b[38;5;241m/\u001b[39m\u001b[38;5;241m2\u001b[39m, \u001b[38;5;124m'\u001b[39m\u001b[38;5;124mfree\u001b[39m\u001b[38;5;124m'\u001b[39m)\n",
      "Cell \u001b[1;32mIn[20], line 3\u001b[0m, in \u001b[0;36mfield_shape\u001b[1;34m(theta, phi, name)\u001b[0m\n\u001b[0;32m      1\u001b[0m \u001b[38;5;28;01mdef\u001b[39;00m \u001b[38;5;21mfield_shape\u001b[39m(theta, phi, name):\n\u001b[0;32m      2\u001b[0m     time_list \u001b[38;5;241m=\u001b[39m np\u001b[38;5;241m.\u001b[39mlinspace(\u001b[38;5;241m-\u001b[39mTC, TC, \u001b[38;5;241m150\u001b[39m)\n\u001b[1;32m----> 3\u001b[0m     e_field \u001b[38;5;241m=\u001b[39m Beam\u001b[38;5;241m.\u001b[39mInt_1\n\u001b[0;32m      5\u001b[0m     plt\u001b[38;5;241m.\u001b[39mplot(time_list, e_field, label\u001b[38;5;241m=\u001b[39mname)\n",
      "\u001b[1;31mAttributeError\u001b[0m: type object 'Beam' has no attribute 'Int_1'"
     ]
    }
   ],
   "source": [
    "def field_shape(theta, phi, name):\n",
    "    time_list = np.linspace(-TC, TC, 150)\n",
    "    e_field = Beam.Int_1\n",
    "    \n",
    "    plt.plot(time_list, e_field, label=name)\n",
    "\n",
    "field_shape(np.pi / 4, np.pi /2, 'free')"
   ]
  },
  {
   "cell_type": "code",
   "execution_count": null,
   "id": "e4ff2574-ce95-45d7-815f-2f20de5f22ba",
   "metadata": {},
   "outputs": [],
   "source": []
  }
 ],
 "metadata": {
  "kernelspec": {
   "display_name": "Python 3 (ipykernel)",
   "language": "python",
   "name": "python3"
  },
  "language_info": {
   "codemirror_mode": {
    "name": "ipython",
    "version": 3
   },
   "file_extension": ".py",
   "mimetype": "text/x-python",
   "name": "python",
   "nbconvert_exporter": "python",
   "pygments_lexer": "ipython3",
   "version": "3.12.4"
  }
 },
 "nbformat": 4,
 "nbformat_minor": 5
}
